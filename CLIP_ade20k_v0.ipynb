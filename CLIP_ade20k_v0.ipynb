{
 "cells": [
  {
   "cell_type": "markdown",
   "metadata": {
    "id": "sE_ECMJf2G0J"
   },
   "source": [
    "### Set-up"
   ]
  },
  {
   "cell_type": "code",
   "execution_count": 1,
   "metadata": {
    "colab": {
     "base_uri": "https://localhost:8080/",
     "height": 0
    },
    "id": "vqhgDvoB3HVB",
    "outputId": "9ae9fbbc-a1b5-4b10-bd3c-6f78ecc21646"
   },
   "outputs": [
    {
     "ename": "SyntaxError",
     "evalue": "invalid syntax (3375358065.py, line 3)",
     "output_type": "error",
     "traceback": [
      "\u001b[0;36m  Cell \u001b[0;32mIn[1], line 3\u001b[0;36m\u001b[0m\n\u001b[0;31m    IPython.OutputArea.prototype._should_scroll = function(lines) {\u001b[0m\n\u001b[0m                                                                  ^\u001b[0m\n\u001b[0;31mSyntaxError\u001b[0m\u001b[0;31m:\u001b[0m invalid syntax\n"
     ]
    }
   ],
   "source": [
    "# prevent autoscroll in Colab when working in multiple tabs\n",
    "%%javascript\n",
    "IPython.OutputArea.prototype._should_scroll = function(lines) {\n",
    "    return false;\n",
    "}"
   ]
  },
  {
   "cell_type": "code",
   "execution_count": 2,
   "metadata": {
    "colab": {
     "base_uri": "https://localhost:8080/",
     "height": 0
    },
    "id": "itzQf5X48Bv3",
    "outputId": "ce802f7a-e750-4e9c-c75b-703751f73b5f"
   },
   "outputs": [
    {
     "name": "stdout",
     "output_type": "stream",
     "text": [
      "Requirement already satisfied: ftfy in /home/ryzhu/.pyenv/versions/3.10.12/lib/python3.10/site-packages (6.1.3)\n",
      "Requirement already satisfied: regex in /home/ryzhu/.pyenv/versions/3.10.12/lib/python3.10/site-packages (2023.10.3)\n",
      "Requirement already satisfied: tqdm in /home/ryzhu/.pyenv/versions/3.10.12/lib/python3.10/site-packages (4.66.1)\n",
      "Requirement already satisfied: wcwidth<0.3.0,>=0.2.12 in /home/ryzhu/.pyenv/versions/3.10.12/lib/python3.10/site-packages (from ftfy) (0.2.12)\n",
      "\n",
      "\u001b[1m[\u001b[0m\u001b[34;49mnotice\u001b[0m\u001b[1;39;49m]\u001b[0m\u001b[39;49m A new release of pip is available: \u001b[0m\u001b[31;49m23.0.1\u001b[0m\u001b[39;49m -> \u001b[0m\u001b[32;49m23.3.1\u001b[0m\n",
      "\u001b[1m[\u001b[0m\u001b[34;49mnotice\u001b[0m\u001b[1;39;49m]\u001b[0m\u001b[39;49m To update, run: \u001b[0m\u001b[32;49mpip install --upgrade pip\u001b[0m\n",
      "Collecting git+https://github.com/openai/CLIP.git\n",
      "  Cloning https://github.com/openai/CLIP.git to /tmp/pip-req-build-nolp6ka7\n",
      "  Running command git clone --filter=blob:none --quiet https://github.com/openai/CLIP.git /tmp/pip-req-build-nolp6ka7\n",
      "  Resolved https://github.com/openai/CLIP.git to commit a1d071733d7111c9c014f024669f959182114e33\n",
      "  Preparing metadata (setup.py) ... \u001b[?25ldone\n",
      "\u001b[?25hRequirement already satisfied: ftfy in /home/ryzhu/.pyenv/versions/3.10.12/lib/python3.10/site-packages (from clip==1.0) (6.1.3)\n",
      "Requirement already satisfied: regex in /home/ryzhu/.pyenv/versions/3.10.12/lib/python3.10/site-packages (from clip==1.0) (2023.10.3)\n",
      "Requirement already satisfied: tqdm in /home/ryzhu/.pyenv/versions/3.10.12/lib/python3.10/site-packages (from clip==1.0) (4.66.1)\n",
      "Requirement already satisfied: torch in /home/ryzhu/.pyenv/versions/3.10.12/lib/python3.10/site-packages (from clip==1.0) (2.1.1)\n",
      "Requirement already satisfied: torchvision in /home/ryzhu/.pyenv/versions/3.10.12/lib/python3.10/site-packages (from clip==1.0) (0.16.1)\n",
      "Requirement already satisfied: wcwidth<0.3.0,>=0.2.12 in /home/ryzhu/.pyenv/versions/3.10.12/lib/python3.10/site-packages (from ftfy->clip==1.0) (0.2.12)\n",
      "Requirement already satisfied: nvidia-cusolver-cu12==11.4.5.107 in /home/ryzhu/.pyenv/versions/3.10.12/lib/python3.10/site-packages (from torch->clip==1.0) (11.4.5.107)\n",
      "Requirement already satisfied: typing-extensions in /home/ryzhu/.pyenv/versions/3.10.12/lib/python3.10/site-packages (from torch->clip==1.0) (4.8.0)\n",
      "Requirement already satisfied: nvidia-cusparse-cu12==12.1.0.106 in /home/ryzhu/.pyenv/versions/3.10.12/lib/python3.10/site-packages (from torch->clip==1.0) (12.1.0.106)\n",
      "Requirement already satisfied: nvidia-curand-cu12==10.3.2.106 in /home/ryzhu/.pyenv/versions/3.10.12/lib/python3.10/site-packages (from torch->clip==1.0) (10.3.2.106)\n",
      "Requirement already satisfied: nvidia-cuda-cupti-cu12==12.1.105 in /home/ryzhu/.pyenv/versions/3.10.12/lib/python3.10/site-packages (from torch->clip==1.0) (12.1.105)\n",
      "Requirement already satisfied: nvidia-nccl-cu12==2.18.1 in /home/ryzhu/.pyenv/versions/3.10.12/lib/python3.10/site-packages (from torch->clip==1.0) (2.18.1)\n",
      "Requirement already satisfied: networkx in /home/ryzhu/.pyenv/versions/3.10.12/lib/python3.10/site-packages (from torch->clip==1.0) (3.2.1)\n",
      "Requirement already satisfied: nvidia-cuda-runtime-cu12==12.1.105 in /home/ryzhu/.pyenv/versions/3.10.12/lib/python3.10/site-packages (from torch->clip==1.0) (12.1.105)\n",
      "Requirement already satisfied: nvidia-cudnn-cu12==8.9.2.26 in /home/ryzhu/.pyenv/versions/3.10.12/lib/python3.10/site-packages (from torch->clip==1.0) (8.9.2.26)\n",
      "Requirement already satisfied: nvidia-cufft-cu12==11.0.2.54 in /home/ryzhu/.pyenv/versions/3.10.12/lib/python3.10/site-packages (from torch->clip==1.0) (11.0.2.54)\n",
      "Requirement already satisfied: triton==2.1.0 in /home/ryzhu/.pyenv/versions/3.10.12/lib/python3.10/site-packages (from torch->clip==1.0) (2.1.0)\n",
      "Requirement already satisfied: nvidia-nvtx-cu12==12.1.105 in /home/ryzhu/.pyenv/versions/3.10.12/lib/python3.10/site-packages (from torch->clip==1.0) (12.1.105)\n",
      "Requirement already satisfied: jinja2 in /home/ryzhu/.pyenv/versions/3.10.12/lib/python3.10/site-packages (from torch->clip==1.0) (3.1.2)\n",
      "Requirement already satisfied: nvidia-cuda-nvrtc-cu12==12.1.105 in /home/ryzhu/.pyenv/versions/3.10.12/lib/python3.10/site-packages (from torch->clip==1.0) (12.1.105)\n",
      "Requirement already satisfied: fsspec in /home/ryzhu/.pyenv/versions/3.10.12/lib/python3.10/site-packages (from torch->clip==1.0) (2023.10.0)\n",
      "Requirement already satisfied: sympy in /home/ryzhu/.pyenv/versions/3.10.12/lib/python3.10/site-packages (from torch->clip==1.0) (1.12)\n",
      "Requirement already satisfied: nvidia-cublas-cu12==12.1.3.1 in /home/ryzhu/.pyenv/versions/3.10.12/lib/python3.10/site-packages (from torch->clip==1.0) (12.1.3.1)\n",
      "Requirement already satisfied: filelock in /home/ryzhu/.pyenv/versions/3.10.12/lib/python3.10/site-packages (from torch->clip==1.0) (3.13.1)\n",
      "Requirement already satisfied: nvidia-nvjitlink-cu12 in /home/ryzhu/.pyenv/versions/3.10.12/lib/python3.10/site-packages (from nvidia-cusolver-cu12==11.4.5.107->torch->clip==1.0) (12.3.101)\n",
      "Requirement already satisfied: numpy in /home/ryzhu/.pyenv/versions/3.10.12/lib/python3.10/site-packages (from torchvision->clip==1.0) (1.24.2)\n",
      "Requirement already satisfied: pillow!=8.3.*,>=5.3.0 in /home/ryzhu/.pyenv/versions/3.10.12/lib/python3.10/site-packages (from torchvision->clip==1.0) (10.1.0)\n",
      "Requirement already satisfied: requests in /home/ryzhu/.pyenv/versions/3.10.12/lib/python3.10/site-packages (from torchvision->clip==1.0) (2.31.0)\n",
      "Requirement already satisfied: MarkupSafe>=2.0 in /home/ryzhu/.pyenv/versions/3.10.12/lib/python3.10/site-packages (from jinja2->torch->clip==1.0) (2.1.3)\n",
      "Requirement already satisfied: certifi>=2017.4.17 in /home/ryzhu/.pyenv/versions/3.10.12/lib/python3.10/site-packages (from requests->torchvision->clip==1.0) (2023.7.22)\n",
      "Requirement already satisfied: urllib3<3,>=1.21.1 in /home/ryzhu/.pyenv/versions/3.10.12/lib/python3.10/site-packages (from requests->torchvision->clip==1.0) (2.0.7)\n",
      "Requirement already satisfied: idna<4,>=2.5 in /home/ryzhu/.pyenv/versions/3.10.12/lib/python3.10/site-packages (from requests->torchvision->clip==1.0) (3.4)\n",
      "Requirement already satisfied: charset-normalizer<4,>=2 in /home/ryzhu/.pyenv/versions/3.10.12/lib/python3.10/site-packages (from requests->torchvision->clip==1.0) (3.3.2)\n",
      "Requirement already satisfied: mpmath>=0.19 in /home/ryzhu/.pyenv/versions/3.10.12/lib/python3.10/site-packages (from sympy->torch->clip==1.0) (1.3.0)\n",
      "\n",
      "\u001b[1m[\u001b[0m\u001b[34;49mnotice\u001b[0m\u001b[1;39;49m]\u001b[0m\u001b[39;49m A new release of pip is available: \u001b[0m\u001b[31;49m23.0.1\u001b[0m\u001b[39;49m -> \u001b[0m\u001b[32;49m23.3.1\u001b[0m\n",
      "\u001b[1m[\u001b[0m\u001b[34;49mnotice\u001b[0m\u001b[1;39;49m]\u001b[0m\u001b[39;49m To update, run: \u001b[0m\u001b[32;49mpip install --upgrade pip\u001b[0m\n"
     ]
    }
   ],
   "source": [
    "! pip install ftfy regex tqdm\n",
    "! pip install git+https://github.com/openai/CLIP.git"
   ]
  },
  {
   "cell_type": "code",
   "execution_count": 3,
   "metadata": {
    "id": "OMSS4YTBuMtX"
   },
   "outputs": [
    {
     "name": "stdout",
     "output_type": "stream",
     "text": [
      "\n",
      "\u001b[1m[\u001b[0m\u001b[34;49mnotice\u001b[0m\u001b[1;39;49m]\u001b[0m\u001b[39;49m A new release of pip is available: \u001b[0m\u001b[31;49m23.0.1\u001b[0m\u001b[39;49m -> \u001b[0m\u001b[32;49m23.3.1\u001b[0m\n",
      "\u001b[1m[\u001b[0m\u001b[34;49mnotice\u001b[0m\u001b[1;39;49m]\u001b[0m\u001b[39;49m To update, run: \u001b[0m\u001b[32;49mpip install --upgrade pip\u001b[0m\n"
     ]
    }
   ],
   "source": [
    "import os\n",
    "import random\n",
    "from time import time\n",
    "import pandas as pd\n",
    "import numpy as np # for numerical operations, super useful for dealing with arrays/matrices\n",
    "from tqdm.notebook import tqdm\n",
    "import pickle # for storing information into pickle files\n",
    "\n",
    "# for visualization\n",
    "from plotly import graph_objects as go\n",
    "import plotly.express as px\n",
    "from plotly.subplots import make_subplots\n",
    "\n",
    "# for the scores and confusion matrices\n",
    "from sklearn.metrics import fbeta_score, confusion_matrix\n",
    "\n",
    "# for visualization\n",
    "from matplotlib import pyplot as plt\n",
    "%matplotlib inline\n",
    "\n",
    "import cv2\n",
    "\n",
    "# PyTorch imports: useful for anything to do with our model\n",
    "# (i.e., the model itself, loading the data into the model, etc,)\n",
    "import torch\n",
    "import torch.nn as nn\n",
    "from torch.utils.data import DataLoader, Dataset\n",
    "from torchvision import transforms as T, models\n",
    "from torch.optim import Adam\n",
    "from torch.optim.lr_scheduler import StepLR\n",
    "!pip install -q torchsummary --user\n",
    "from torchsummary import summary"
   ]
  },
  {
   "cell_type": "markdown",
   "metadata": {
    "id": "1L1CBpsY5Nbz"
   },
   "source": [
    "### Load CLIP"
   ]
  },
  {
   "cell_type": "code",
   "execution_count": 4,
   "metadata": {
    "colab": {
     "base_uri": "https://localhost:8080/"
    },
    "id": "JCMR5gdt8MwM",
    "outputId": "32a1b190-c032-49cd-89ec-5d957008efb0"
   },
   "outputs": [],
   "source": [
    "import os\n",
    "import clip\n",
    "import torch\n",
    "from torchvision.datasets import CIFAR100\n",
    "\n",
    "# Load the model\n",
    "device = \"cuda\" if torch.cuda.is_available() else \"cpu\"\n",
    "clip_encoder, preprocess = clip.load('ViT-B/32', device)"
   ]
  },
  {
   "cell_type": "code",
   "execution_count": 5,
   "metadata": {
    "id": "7i8tBg6UXfc7"
   },
   "outputs": [],
   "source": [
    "# # Calculate features\n",
    "# with torch.no_grad(): # was I supposed to do this...\n",
    "#     image_features = model.encode_image(image_input) # image_input is of dims (batch, num channels, height, width) and the features are of size (batch, 512)"
   ]
  },
  {
   "cell_type": "markdown",
   "metadata": {
    "id": "ipRh0dzv98m2"
   },
   "source": [
    "### ADE20K Data"
   ]
  },
  {
   "cell_type": "code",
   "execution_count": 8,
   "metadata": {
    "colab": {
     "base_uri": "https://localhost:8080/"
    },
    "id": "yWFqtw2B-Jle",
    "outputId": "3ec9478c-4fdc-4dec-b38a-de0481486440"
   },
   "outputs": [
    {
     "name": "stdout",
     "output_type": "stream",
     "text": [
      "/scratch/gpfs/ryzhu/cos514/ADE20K/ADEChallengeData2016\n"
     ]
    },
    {
     "name": "stderr",
     "output_type": "stream",
     "text": [
      "/home/ryzhu/.pyenv/versions/3.10.12/lib/python3.10/site-packages/IPython/core/magics/osm.py:417: UserWarning: using dhist requires you to install the `pickleshare` library.\n",
      "  self.shell.db['dhist'] = compress_dhist(dhist)[-100:]\n"
     ]
    }
   ],
   "source": [
    "# from google.colab import drive\n",
    "\n",
    "# # This will prompt you to click on a link and get an authorization code\n",
    "# drive.mount('/content/drive', force_remount=True)\n",
    "\n",
    "# %ls\n",
    "# %cd '/drive/MyDrive/514 Project'\n",
    "# !sh download_and_convert_ade20k.sh\n",
    "# %cd /content/drive/MyDrive/514 Project/ADE20K/ADEChallengeData2016/\n",
    "%cd /scratch/gpfs/ryzhu/cos514/ADE20K/ADEChallengeData2016/"
   ]
  },
  {
   "cell_type": "code",
   "execution_count": 9,
   "metadata": {
    "id": "pvf9aM_3JcYa"
   },
   "outputs": [],
   "source": [
    "import os\n",
    "\n",
    "# checking how much training and validation data we have\n",
    "train_paths = [\"images/training\", ]\n",
    "val_paths = [\"images/validation\", ]\n",
    "# num_train = sum(\"_train_\" in s for s in df_classes['filename'].tolist())\n",
    "# num_val = sum(\"_val_\" in s for s in df_classes['filename'].tolist())\n",
    "# print(\n",
    "#     f\"train files: {num_train}, \"\n",
    "#     f\"validation files: {num_val}\"\n",
    "# )"
   ]
  },
  {
   "cell_type": "code",
   "execution_count": 24,
   "metadata": {
    "colab": {
     "base_uri": "https://localhost:8080/",
     "height": 729
    },
    "id": "WTN_z-4DLmEp",
    "outputId": "254840a6-8438-4135-fccd-d502f1a96583"
   },
   "outputs": [
    {
     "name": "stdout",
     "output_type": "stream",
     "text": [
      "8809\n",
      "           image_name              tags           list_tags\n",
      "0  ADE_train_00000001  airport_terminal  [airport_terminal]\n",
      "1  ADE_train_00000002  airport_terminal  [airport_terminal]\n",
      "5  ADE_train_00000006          bathroom          [bathroom]\n",
      "6  ADE_train_00000007          bathroom          [bathroom]\n",
      "7  ADE_train_00000008          bathroom          [bathroom]\n"
     ]
    },
    {
     "data": {
      "image/png": "[encoded data removed]",
      "text/plain": [
       "<Figure size 1000x600 with 1 Axes>"
      ]
     },
     "metadata": {},
     "output_type": "display_data"
    }
   ],
   "source": [
    "import pandas as pd\n",
    "import matplotlib.pyplot as plt\n",
    "\n",
    "# Read the text file into a DataFrame\n",
    "df_classes = pd.read_csv('sceneCategories.txt', sep=' ', header=None, names=['filename', 'label'])\n",
    "\n",
    "# Count the frequency of each label\n",
    "label_counts = df_classes['label'].value_counts()\n",
    "\n",
    "# Exclude the label \"misc\"\n",
    "label_counts = label_counts[label_counts.index != 'misc']\n",
    "\n",
    "# Apply a cutoff to include only labels with frequencies above 97\n",
    "cutoff = 97\n",
    "filtered_label_counts = label_counts[label_counts > cutoff]\n",
    "df_classes = df_classes[df_classes['label'].isin(filtered_label_counts.keys())]\n",
    "\n",
    "# Sort labels based on frequency in descending order\n",
    "sorted_labels = filtered_label_counts.sort_values().index\n",
    "\n",
    "# for loss calculation function. Take anything that occurs less than 1/10th the most common frequency\n",
    "rare_label_counts = filtered_label_counts[filtered_label_counts < filtered_label_counts.iloc[0]/10]\n",
    "RARE_CLASSES = rare_label_counts.index.tolist()\n",
    "\n",
    "# Create a horizontal bar plot\n",
    "plt.figure(figsize=(10, 6))\n",
    "plt.barh(sorted_labels, label_counts[sorted_labels], color='skyblue')\n",
    "plt.xlabel('Frequency')\n",
    "plt.ylabel('Labels')\n",
    "plt.title('Frequency of each label with cutoff at N=97 (descending order)')\n",
    "plt.tight_layout()\n",
    "\n",
    "print(df_classes.shape[0])\n",
    "df_classes = df_classes.rename(columns={\"filename\": \"image_name\",  \"label\": \"tags\"})\n",
    "df_classes[\"list_tags\"] = df_classes.tags.str.split(\" \")\n",
    "print(df_classes.head())\n",
    "\n",
    "# Show the plot\n",
    "plt.show()\n"
   ]
  },
  {
   "cell_type": "code",
   "execution_count": 11,
   "metadata": {
    "id": "YFTfUuQT2kuR"
   },
   "outputs": [],
   "source": [
    "# another helper function for loading data information\n",
    "def load_split(paths, df_class):\n",
    "    if isinstance(paths, str):\n",
    "        paths = [paths]\n",
    "    elif not isinstance(paths, (list, tuple, set)):\n",
    "        raise ValueError('Expected type in {list, tuple, set, str} but got ' + str(type(paths)))\n",
    "    image_names = list()\n",
    "    for path in paths:\n",
    "        image_names += list(map(lambda x: x.split('.', 1)[0], os.listdir(path)))\n",
    "    return df_class[df_class.image_name.map(lambda x: x in image_names)].reset_index(drop=True)"
   ]
  },
  {
   "cell_type": "code",
   "execution_count": 12,
   "metadata": {
    "id": "HYpvGvOU7eoT"
   },
   "outputs": [],
   "source": [
    "from torch.utils.data import DataLoader, Dataset\n",
    "import cv2\n",
    "import matplotlib.pyplot as plt\n",
    "from PIL import Image\n",
    "\n",
    "class ADE20kDataset(Dataset):\n",
    "    # basically defines what information we store for a dataset\n",
    "    def __init__(\n",
    "        self,\n",
    "        df,\n",
    "        transform,\n",
    "        paths,\n",
    "        is_train=True,\n",
    "        idx_tta=None,\n",
    "    ):\n",
    "        super().__init__()\n",
    "        self.df = df\n",
    "        self.ohe_tags = list(map(transform_targets, self.df.list_tags.values))\n",
    "        self.transform = transform\n",
    "        if isinstance(paths, str):\n",
    "            self.paths = [paths]\n",
    "        elif isinstance(paths, (list, tuple)):\n",
    "            self.paths = paths\n",
    "        else:\n",
    "            raise ValueError('expected path to be a string or list or tuple')\n",
    "        self.is_train = is_train\n",
    "        if not is_train:\n",
    "            if not idx_tta in list(range(6)):\n",
    "                raise ValueError(\n",
    "                    f\"In test mode, 'idx_tta' must be an int belonging to [0, 5], got: {repr(idx_tta)}\"\n",
    "                )\n",
    "            self.idx_tta = idx_tta\n",
    "\n",
    "    # returns how many examples are in the data\n",
    "    def __len__(self):\n",
    "        return len(self.df)\n",
    "\n",
    "    # get the example corresponding to the parameter idx from the dataset\n",
    "    def __getitem__(self, idx):\n",
    "        filename = self.df.iloc[idx].image_name + \".jpg\"\n",
    "        files = list()\n",
    "        for path in self.paths:\n",
    "            file_path = os.path.join(path, filename)\n",
    "            if os.path.isfile(file_path):\n",
    "                files.append(file_path)\n",
    "        if len(files) == 0:\n",
    "            raise FileNotFoundError(filename + ' not found in ' + ' '.join(self.paths))\n",
    "        elif len(files) > 1:\n",
    "            raise ValueError(f'Found {len(files)} values for {filename} as {files}')\n",
    "        else:\n",
    "            file_path = files[0]\n",
    "        img = cv2.imread(file_path)\n",
    "        if img is None:\n",
    "            raise ValueError('Problem reading image from %s' % file_path)\n",
    "        img = cv2.cvtColor(img, cv2.COLOR_BGR2RGB)\n",
    "        label = self.ohe_tags[idx]\n",
    "        return img, label\n",
    "\n",
    "    # returns images and labels in a batch with augmentations applied\n",
    "    def collate_fn(self, batch):\n",
    "        imgs, labels = [], []\n",
    "        for (img, label) in batch:\n",
    "            img = Image.fromarray(img)\n",
    "            # img = self.custom_augment(img)\n",
    "            # img = torch.tensor(img)\n",
    "            # img = img.permute(2, 0, 1)\n",
    "            # img = self.transform(img) # looks like it's already taken care of with the preprocess transforms from clip\n",
    "            image_input = preprocess(img).unsqueeze(0).to(device)\n",
    "            with torch.no_grad():\n",
    "              img_embed = clip_encoder.encode_image(image_input)\n",
    "            imgs.append(img_embed)\n",
    "            labels.append(label)\n",
    "        imgs = torch.cat(imgs).float().to(device)\n",
    "        labels = torch.tensor(labels).float().to(device)\n",
    "        return imgs, labels\n",
    "\n",
    "    # loads and displays the example corresponding to the parameter idx\n",
    "    def load_img(self, idx, ax=None):\n",
    "        img, ohe_label = self[idx]\n",
    "        label = self.df.iloc[idx].tags\n",
    "        title = f\"{label} - {ohe_label}\"\n",
    "        if ax is None:\n",
    "            plt.imshow(img)\n",
    "            plt.title(title)\n",
    "        else:\n",
    "            ax.imshow(img)\n",
    "            ax.set_title(title)\n",
    "\n",
    "    # applies data augmentations to the parameter img, not used so far\n",
    "    def custom_augment(self, img):\n",
    "        \"\"\"\n",
    "        If we want data augmentations\n",
    "        \"\"\"\n",
    "        return img"
   ]
  },
  {
   "cell_type": "code",
   "execution_count": 13,
   "metadata": {
    "id": "ts7z1IdSEtO2"
   },
   "outputs": [],
   "source": [
    "def get_transforms():\n",
    "    transform_train = T.Compose([\n",
    "      T.ToPILImage(),\n",
    "      T.Resize(224),\n",
    "      T.ToTensor(),\n",
    "      T.Normalize(\n",
    "          mean=[0.485, 0.456, 0.406],  # Set by previously known values\n",
    "          std=[0.229, 0.224, 0.225],   # Set by previously known values\n",
    "      )\n",
    "    ])\n",
    "    transform_val = T.Compose([\n",
    "      T.ToPILImage(),\n",
    "      T.Resize(224),\n",
    "      T.ToTensor(),\n",
    "      T.Normalize(\n",
    "        mean=[0.485, 0.456, 0.406],  # Set by previously known values\n",
    "        std=[0.229, 0.224, 0.225],   # Set by previously known values\n",
    "      )\n",
    "    ])\n",
    "    return transform_train, transform_val"
   ]
  },
  {
   "cell_type": "code",
   "execution_count": 14,
   "metadata": {
    "id": "CNRItR6TE_Ho"
   },
   "outputs": [],
   "source": [
    "# the possible labels for our dataset\n",
    "INVERSE_LABEL_IDXS = dict(enumerate(df_classes['tags'].unique()))\n",
    "\n",
    "LABEL_IDXS = {v: k for k, v in INVERSE_LABEL_IDXS.items()}\n",
    "\n",
    "# converts the parameter tag_list (list of words, subset of the keys in LABEL_IDXS) to a one-hot encoding\n",
    "def transform_targets(tag_list):\n",
    "    targets = np.zeros(len(LABEL_IDXS), dtype=np.int8)\n",
    "    mask = [LABEL_IDXS[tag] for tag in tag_list]\n",
    "    targets[mask] = 1\n",
    "    # returns list of ones and zeros\n",
    "    # (e.g. tag_list = ['primary', 'haze'] -> [0, 0, 0, 0, 0, 0, 0, 0, 0, 0, 1, 0, 1, 0, 0, 0, 0]\n",
    "    return targets.tolist()\n",
    "\n",
    "# converts the parameter targets (one-hot encoding) back into a list of tags (subset of words from LABEL_IDXS)\n",
    "def inverse_transform_targets(targets):\n",
    "    idxs = [idx for idx, target in enumerate(targets) if target]\n",
    "    tag_list = [INVERSE_LABEL_IDXS[ix] for ix in idxs]\n",
    "    return list(sorted(tag_list))"
   ]
  },
  {
   "cell_type": "code",
   "execution_count": 15,
   "metadata": {
    "colab": {
     "base_uri": "https://localhost:8080/"
    },
    "id": "6xrpF8c5F-qC",
    "outputId": "fa8e0d01-c91c-4fd9-b346-c7aa3be8693b"
   },
   "outputs": [
    {
     "name": "stdout",
     "output_type": "stream",
     "text": [
      "{'airport_terminal': 0, 'bathroom': 1, 'bedroom': 2, 'conference_room': 3, 'corridor': 4, 'kitchen': 5, 'living_room': 6, 'mountain_snowy': 7, 'office': 8, 'poolroom_home': 9, 'skyscraper': 10, 'art_studio': 11, 'building_facade': 12, 'dining_room': 13, 'game_room': 14, 'highway': 15, 'home_office': 16, 'hotel_room': 17, 'street': 18, 'waiting_room': 19}\n"
     ]
    }
   ],
   "source": [
    "print(LABEL_IDXS)"
   ]
  },
  {
   "cell_type": "code",
   "execution_count": 16,
   "metadata": {
    "id": "uzGgoRljCoet"
   },
   "outputs": [],
   "source": [
    "df_train = load_split(train_paths, df_classes)\n",
    "df_val = load_split(val_paths, df_classes)"
   ]
  },
  {
   "cell_type": "code",
   "execution_count": 17,
   "metadata": {
    "id": "VsUucBagD2uk"
   },
   "outputs": [],
   "source": [
    "transform_train, transform_val = get_transforms()\n",
    "ds_train = ADE20kDataset(df_train, transform_train, paths=train_paths)\n",
    "ds_val = ADE20kDataset(df_val, transform_val, paths=val_paths)"
   ]
  },
  {
   "cell_type": "code",
   "execution_count": 18,
   "metadata": {
    "id": "U4KpeSZQ_5Nr"
   },
   "outputs": [],
   "source": [
    "# import matplotlib.pyplot as plt\n",
    "\n",
    "# # Read the contents of the text file\n",
    "# with open('sceneCategories.txt', 'r') as file:\n",
    "#     lines = file.readlines()\n",
    "\n",
    "# # Extract labels from each line\n",
    "# fns, labels = [], []\n",
    "# for line in lines:\n",
    "#   e = line.split()\n",
    "#   fns.append(e[0]), labels.append(e[1])\n",
    "\n",
    "\n",
    "# # Count the frequency of each label\n",
    "# label_counts = {}\n",
    "# for label in list(set(labels)):\n",
    "#   if labels.count(label) > 97 and label != \"misc\":\n",
    "#     label_counts[label] = labels.count(label)\n",
    "\n",
    "# sorted_labels = sorted(label_counts.keys(), key=lambda x: label_counts[x])\n",
    "# print(len(sorted_labels))\n",
    "\n",
    "# # Create a bar plot\n",
    "# plt.figure(figsize=(10, 6))\n",
    "# plt.barh(sorted_labels, [label_counts[label] for label in sorted_labels], color='skyblue')\n",
    "# plt.xlabel('Frequency')\n",
    "# plt.ylabel('Labels')\n",
    "# plt.title('Frequency of each label with cutoff at N=97 (descending order)')\n",
    "# plt.tight_layout()\n",
    "\n",
    "# # Show the plot\n",
    "# plt.show()\n"
   ]
  },
  {
   "cell_type": "markdown",
   "metadata": {
    "id": "Pswof8zV5PnZ"
   },
   "source": [
    "### Training"
   ]
  },
  {
   "cell_type": "code",
   "execution_count": 19,
   "metadata": {
    "id": "OOtgSAG2bX3w"
   },
   "outputs": [],
   "source": [
    "from torchvision import transforms as T, models\n",
    "import torch.nn as nn\n",
    "\n",
    "def get_model(weights=False, dropout_rate=0.2):\n",
    "    model = nn.Sequential(\n",
    "      nn.Linear(512, 128),\n",
    "      nn.ReLU(inplace=True),\n",
    "      nn.Dropout(dropout_rate),\n",
    "      ######### FILL IN HERE #########\n",
    "      nn.Linear(128, 20),\n",
    "      ######### END #########\n",
    "      nn.Sigmoid()\n",
    "    )\n",
    "\n",
    "    return model.to(device)"
   ]
  },
  {
   "cell_type": "code",
   "execution_count": 20,
   "metadata": {
    "id": "7_hLcbxZfjLD"
   },
   "outputs": [],
   "source": [
    "def train_batch(X, Y, model, loss_fn, optimizer):\n",
    "    model.train()\n",
    "    ######### FILL IN HERE #########\n",
    "    optimizer.zero_grad()\n",
    "    Y_hat = model(X)\n",
    "    batch_loss = loss_fn(Y_hat, Y)\n",
    "    batch_loss.backward()\n",
    "    optimizer.step()\n",
    "    ######### END #########\n",
    "    Y_hat = Y_hat.detach().float().cpu().numpy()  # detach predictions from gradients for logging\n",
    "\n",
    "    return Y_hat, batch_loss.item()"
   ]
  },
  {
   "cell_type": "code",
   "execution_count": 21,
   "metadata": {
    "id": "29sngwavfknP"
   },
   "outputs": [],
   "source": [
    "@torch.no_grad()\n",
    "def compute_val_loss(X, Y, model, loss_fn):\n",
    "    model.eval()\n",
    "    ######### FILL IN HERE #########\n",
    "    Y_hat = model(X)\n",
    "    batch_loss = loss_fn(Y_hat, Y)\n",
    "    ######### END #########\n",
    "    Y_hat = Y_hat.float().cpu().numpy()\n",
    "\n",
    "    return Y_hat, batch_loss.item()"
   ]
  },
  {
   "cell_type": "code",
   "execution_count": 31,
   "metadata": {
    "id": "xStAEF84f8zF"
   },
   "outputs": [],
   "source": [
    "from torch.optim.lr_scheduler import StepLR\n",
    "from tqdm.notebook import tqdm\n",
    "import numpy as np\n",
    "from sklearn.metrics import fbeta_score, confusion_matrix\n",
    "\n",
    "def train_model(model, optimizer, loss_fn, dl_train, dl_val, epochs, filename, loss_scale=1):\n",
    "    lr_scheduler = StepLR(optimizer, step_size=7, gamma=0.1)\n",
    "\n",
    "    loss_train, loss_val = [], []\n",
    "    score_train, score_val = [], []\n",
    "\n",
    "    Y_hat_val = None\n",
    "    best_loss_val = np.inf\n",
    "\n",
    "    for idx in range(epochs):\n",
    "        loss_train_epoch, loss_val_epoch = [], []\n",
    "        Y_hat_train_epoch, Y_hat_val_epoch = [], []\n",
    "        Y_train_epoch, Y_val_epoch = [], []\n",
    "\n",
    "        for X, Y in tqdm(dl_train, leave=False):\n",
    "            Y_hat, batch_loss = train_batch(X, Y, model, loss_fn, optimizer)\n",
    "            loss_train_epoch.append(batch_loss)\n",
    "            Y_hat_train_epoch.extend(Y_hat)\n",
    "            Y_train_epoch.extend(Y.detach().float().cpu().numpy())\n",
    "\n",
    "        for X, Y in tqdm(dl_val, leave=False):\n",
    "            Y_hat, batch_loss = compute_val_loss(X, Y, model, loss_fn)\n",
    "            loss_val_epoch.append(batch_loss)\n",
    "            Y_hat_val_epoch.extend(Y_hat)\n",
    "            Y_val_epoch.extend(Y.detach().float().cpu().numpy())\n",
    "\n",
    "        avg_loss_train = np.mean(loss_train_epoch)\n",
    "        avg_loss_val = np.mean(loss_val_epoch)\n",
    "\n",
    "        Y_hat_train_epoch = np.array(Y_hat_train_epoch)\n",
    "        Y_hat_val_epoch = np.array(Y_hat_val_epoch)\n",
    "        Y_thresh_train_epoch = (Y_hat_train_epoch > .2).astype(float)\n",
    "        Y_thresh_val_epoch = (Y_hat_val_epoch > .2).astype(float)\n",
    "        Y_train_epoch = np.array(Y_train_epoch)\n",
    "        Y_val_epoch = np.array(Y_val_epoch)\n",
    "\n",
    "        score_train_epoch = fbeta_score(Y_train_epoch, Y_thresh_train_epoch, beta=2, average=\"samples\")\n",
    "        score_val_epoch = fbeta_score(Y_val_epoch, Y_thresh_val_epoch, beta=2, average=\"samples\")\n",
    "\n",
    "        # saving values for debugging\n",
    "        if avg_loss_val < best_loss_val:\n",
    "            best_loss_val = avg_loss_val\n",
    "            Y_hat_val = Y_hat_val_epoch\n",
    "            Y_thresh_val = Y_thresh_val_epoch\n",
    "            Y_val = Y_val_epoch\n",
    "\n",
    "        loss_train.append(avg_loss_train)\n",
    "        loss_val.append(avg_loss_val)\n",
    "        score_train.append(score_train_epoch)\n",
    "        score_val.append(score_val_epoch)\n",
    "\n",
    "        print(\n",
    "            f\"epoch: {idx}/{epochs} -- train loss: {avg_loss_train}, \" \\\n",
    "            f\"val loss: {avg_loss_val}\" \\\n",
    "            f\" -- train fbeta_score: {score_train_epoch}, \" \\\n",
    "            f\"val fbeta_score: {score_val_epoch}\"\n",
    "        )\n",
    "\n",
    "        lr_scheduler.step()\n",
    "\n",
    "    train_results = {\n",
    "        \"loss_train\": loss_train,\n",
    "        \"loss_val\": loss_val,\n",
    "        \"score_train\": score_train,\n",
    "        \"score_val\": score_val,\n",
    "        \"Y_hat_val\": Y_hat_val,\n",
    "        \"Y_thresh_val\": Y_thresh_val,\n",
    "        \"Y_val\": Y_val,\n",
    "    }\n",
    "\n",
    "    torch.save(model, filename + '.pt')\n",
    "    pickle.dump(train_results, open(filename+'.results', \"wb\"))\n",
    "    print(f'Saved model to {filename}.pt')\n",
    "    print(f'Saved results to {filename}.results')"
   ]
  },
  {
   "cell_type": "code",
   "execution_count": null,
   "metadata": {
    "colab": {
     "base_uri": "https://localhost:8080/",
     "height": 49,
     "referenced_widgets": [
      "9d33bfdfe0be4299aba8a638fb343418",
      "c9046f7a76cf400f89334cada5426dde",
      "a3aa5a7a699143c79f22e316792f04ea",
      "6f0aeea5f7a04fc7b5cb9b136b04e827",
      "fd615312758c409d8963ae3017285160",
      "eabc168a5d374df8bc3b995d316cc5d5",
      "56ad8734c4c1408595c5043df7edc893",
      "cc0ffbd45dac439fbc8a7b7f959ca2dc",
      "9214534ee6304c768f592943c5dc0123",
      "bcad5cfceeb948019c37ec886fdae4a7",
      "bfb3cc2690bf4cc7a7acb8fc0e2c8aa2"
     ]
    },
    "id": "RYq_5eGzgCHV",
    "outputId": "e1eb3e21-ac76-49b8-d95d-59eb79a1b328"
   },
   "outputs": [
    {
     "data": {
      "application/vnd.jupyter.widget-view+json": {
       "model_id": "fd9529fb4e2c434ab59e7c2f35a9e349",
       "version_major": 2,
       "version_minor": 0
      },
      "text/plain": [
       "  0%|          | 0/126 [00:00<?, ?it/s]"
      ]
     },
     "metadata": {},
     "output_type": "display_data"
    }
   ],
   "source": [
    "from torch.optim import Adam\n",
    "\n",
    "# Set hyeprparameters for batch size, epochs, learning rate\n",
    "BATCH_SIZE = 64\n",
    "LR = 1e-4\n",
    "EPOCHS = 10\n",
    "LOSS_SCALES = [1, 5, 10, 50, 100]\n",
    "\n",
    "\n",
    "for loss_scale in LOSS_SCALES:\n",
    "    filename = f'ade20k_clip_loss_reweight_{loss_scale}'\n",
    "\n",
    "    # Load dataset in DataLoader\n",
    "    dl_train = DataLoader(\n",
    "        ds_train,\n",
    "        batch_size=BATCH_SIZE,\n",
    "        shuffle=True,\n",
    "        collate_fn=ds_train.collate_fn\n",
    "    )\n",
    "    dl_val = DataLoader(\n",
    "        ds_val,\n",
    "        batch_size=BATCH_SIZE,\n",
    "        shuffle=False,\n",
    "        collate_fn=ds_val.collate_fn\n",
    "    )\n",
    "    \n",
    "    # Initialize model\n",
    "    ######### FILL IN HERE #########\n",
    "    # What needs to change to use the pretrained model?\n",
    "    model = get_model(False)\n",
    "    ######### END #########\n",
    "    optimizer = Adam(model.parameters(), lr=LR)\n",
    "    loss_fn = nn.BCELoss()\n",
    "    \n",
    "    # Checkpoint file to save models + results\n",
    "    # filename = f'/content/drive/MyDrive/pretrained_full_data_resnet18__batch_size={BATCH_SIZE}__lr={LR}__epochs={EPOCHS}'\n",
    "    # Train\n",
    "    train_model(\n",
    "        ######### FILL IN HERE #########\n",
    "        dl_train=dl_train,\n",
    "        dl_val=dl_val,\n",
    "        epochs=EPOCHS,\n",
    "        model=model,\n",
    "        optimizer=optimizer,\n",
    "        loss_fn=loss_fn,\n",
    "        filename=filename,\n",
    "        loss_scale=loss_scale\n",
    "        ######### END #########\n",
    "        )"
   ]
  },
  {
   "cell_type": "code",
   "execution_count": null,
   "metadata": {
    "id": "EYHupnaB8g8s"
   },
   "outputs": [],
   "source": [
    "model = torch.load(filename + '.pt')  # load best model\n",
    "train_results = pickle.load(open(filename + '.results', \"rb\"))  # load best model results"
   ]
  },
  {
   "cell_type": "code",
   "execution_count": null,
   "metadata": {
    "id": "ye2Frz1MgWwI"
   },
   "outputs": [],
   "source": [
    "# Track loss and performance over time (for train and val)\n",
    "loss_train = train_results[\"loss_train\"]\n",
    "loss_val = train_results[\"loss_val\"]\n",
    "score_train = train_results[\"score_train\"]\n",
    "score_val = train_results[\"score_val\"]\n",
    "\n",
    "fig = make_subplots(rows=1, cols=2, subplot_titles=(\"Loss\", \"Fbeta scores\"))\n",
    "fig.add_trace(\n",
    "    go.Scatter(\n",
    "        x=list(range(len(loss_train))),\n",
    "        y=loss_train,\n",
    "        name=\"loss_train\",\n",
    "    ),\n",
    "    row=1, col=1\n",
    ")\n",
    "fig.add_trace(\n",
    "    go.Scatter(\n",
    "        x=list(range(len(loss_val))),\n",
    "        y=loss_val,\n",
    "        name=\"loss_val\",\n",
    "    ),\n",
    "    row=1, col=1\n",
    ")\n",
    "fig.add_trace(\n",
    "    go.Scatter(\n",
    "        x=list(range(len(score_train))),\n",
    "        y=score_train,\n",
    "        name=\"score_train\",\n",
    "    ),\n",
    "    row=1, col=2\n",
    ")\n",
    "fig.add_trace(\n",
    "    go.Scatter(\n",
    "        x=list(range(len(score_val))),\n",
    "        y=score_val,\n",
    "        name=\"score_val\",\n",
    "    ),\n",
    "    row=1, col=2\n",
    ")\n",
    "fig.show()"
   ]
  }
 ],
 "metadata": {
  "accelerator": "GPU",
  "colab": {
   "collapsed_sections": [
    "sE_ECMJf2G0J",
    "1L1CBpsY5Nbz",
    "k79Xl00L72jH",
    "ipRh0dzv98m2"
   ],
   "gpuType": "T4",
   "provenance": []
  },
  "kernelspec": {
   "display_name": "Python 3 (ipykernel)",
   "language": "python",
   "name": "python3"
  },
  "language_info": {
   "codemirror_mode": {
    "name": "ipython",
    "version": 3
   },
   "file_extension": ".py",
   "mimetype": "text/x-python",
   "name": "python",
   "nbconvert_exporter": "python",
   "pygments_lexer": "ipython3",
   "version": "3.10.12"
  },
  "widgets": {
   "application/vnd.jupyter.widget-state+json": {
    "56ad8734c4c1408595c5043df7edc893": {
     "model_module": "@jupyter-widgets/controls",
     "model_module_version": "1.5.0",
     "model_name": "DescriptionStyleModel",
     "state": {
      "_model_module": "@jupyter-widgets/controls",
      "_model_module_version": "1.5.0",
      "_model_name": "DescriptionStyleModel",
      "_view_count": null,
      "_view_module": "@jupyter-widgets/base",
      "_view_module_version": "1.2.0",
      "_view_name": "StyleView",
      "description_width": ""
     }
    },
    "6f0aeea5f7a04fc7b5cb9b136b04e827": {
     "model_module": "@jupyter-widgets/controls",
     "model_module_version": "1.5.0",
     "model_name": "HTMLModel",
     "state": {
      "_dom_classes": [],
      "_model_module": "@jupyter-widgets/controls",
      "_model_module_version": "1.5.0",
      "_model_name": "HTMLModel",
      "_view_count": null,
      "_view_module": "@jupyter-widgets/controls",
      "_view_module_version": "1.5.0",
      "_view_name": "HTMLView",
      "description": "",
      "description_tooltip": null,
      "layout": "IPY_MODEL_bcad5cfceeb948019c37ec886fdae4a7",
      "placeholder": "​",
      "style": "IPY_MODEL_bfb3cc2690bf4cc7a7acb8fc0e2c8aa2",
      "value": " 102/126 [39:46&lt;09:19, 23.33s/it]"
     }
    },
    "9214534ee6304c768f592943c5dc0123": {
     "model_module": "@jupyter-widgets/controls",
     "model_module_version": "1.5.0",
     "model_name": "ProgressStyleModel",
     "state": {
      "_model_module": "@jupyter-widgets/controls",
      "_model_module_version": "1.5.0",
      "_model_name": "ProgressStyleModel",
      "_view_count": null,
      "_view_module": "@jupyter-widgets/base",
      "_view_module_version": "1.2.0",
      "_view_name": "StyleView",
      "bar_color": null,
      "description_width": ""
     }
    },
    "9d33bfdfe0be4299aba8a638fb343418": {
     "model_module": "@jupyter-widgets/controls",
     "model_module_version": "1.5.0",
     "model_name": "HBoxModel",
     "state": {
      "_dom_classes": [],
      "_model_module": "@jupyter-widgets/controls",
      "_model_module_version": "1.5.0",
      "_model_name": "HBoxModel",
      "_view_count": null,
      "_view_module": "@jupyter-widgets/controls",
      "_view_module_version": "1.5.0",
      "_view_name": "HBoxView",
      "box_style": "",
      "children": [
       "IPY_MODEL_c9046f7a76cf400f89334cada5426dde",
       "IPY_MODEL_a3aa5a7a699143c79f22e316792f04ea",
       "IPY_MODEL_6f0aeea5f7a04fc7b5cb9b136b04e827"
      ],
      "layout": "IPY_MODEL_fd615312758c409d8963ae3017285160"
     }
    },
    "a3aa5a7a699143c79f22e316792f04ea": {
     "model_module": "@jupyter-widgets/controls",
     "model_module_version": "1.5.0",
     "model_name": "FloatProgressModel",
     "state": {
      "_dom_classes": [],
      "_model_module": "@jupyter-widgets/controls",
      "_model_module_version": "1.5.0",
      "_model_name": "FloatProgressModel",
      "_view_count": null,
      "_view_module": "@jupyter-widgets/controls",
      "_view_module_version": "1.5.0",
      "_view_name": "ProgressView",
      "bar_style": "",
      "description": "",
      "description_tooltip": null,
      "layout": "IPY_MODEL_cc0ffbd45dac439fbc8a7b7f959ca2dc",
      "max": 126,
      "min": 0,
      "orientation": "horizontal",
      "style": "IPY_MODEL_9214534ee6304c768f592943c5dc0123",
      "value": 102
     }
    },
    "bcad5cfceeb948019c37ec886fdae4a7": {
     "model_module": "@jupyter-widgets/base",
     "model_module_version": "1.2.0",
     "model_name": "LayoutModel",
     "state": {
      "_model_module": "@jupyter-widgets/base",
      "_model_module_version": "1.2.0",
      "_model_name": "LayoutModel",
      "_view_count": null,
      "_view_module": "@jupyter-widgets/base",
      "_view_module_version": "1.2.0",
      "_view_name": "LayoutView",
      "align_content": null,
      "align_items": null,
      "align_self": null,
      "border": null,
      "bottom": null,
      "display": null,
      "flex": null,
      "flex_flow": null,
      "grid_area": null,
      "grid_auto_columns": null,
      "grid_auto_flow": null,
      "grid_auto_rows": null,
      "grid_column": null,
      "grid_gap": null,
      "grid_row": null,
      "grid_template_areas": null,
      "grid_template_columns": null,
      "grid_template_rows": null,
      "height": null,
      "justify_content": null,
      "justify_items": null,
      "left": null,
      "margin": null,
      "max_height": null,
      "max_width": null,
      "min_height": null,
      "min_width": null,
      "object_fit": null,
      "object_position": null,
      "order": null,
      "overflow": null,
      "overflow_x": null,
      "overflow_y": null,
      "padding": null,
      "right": null,
      "top": null,
      "visibility": null,
      "width": null
     }
    },
    "bfb3cc2690bf4cc7a7acb8fc0e2c8aa2": {
     "model_module": "@jupyter-widgets/controls",
     "model_module_version": "1.5.0",
     "model_name": "DescriptionStyleModel",
     "state": {
      "_model_module": "@jupyter-widgets/controls",
      "_model_module_version": "1.5.0",
      "_model_name": "DescriptionStyleModel",
      "_view_count": null,
      "_view_module": "@jupyter-widgets/base",
      "_view_module_version": "1.2.0",
      "_view_name": "StyleView",
      "description_width": ""
     }
    },
    "c9046f7a76cf400f89334cada5426dde": {
     "model_module": "@jupyter-widgets/controls",
     "model_module_version": "1.5.0",
     "model_name": "HTMLModel",
     "state": {
      "_dom_classes": [],
      "_model_module": "@jupyter-widgets/controls",
      "_model_module_version": "1.5.0",
      "_model_name": "HTMLModel",
      "_view_count": null,
      "_view_module": "@jupyter-widgets/controls",
      "_view_module_version": "1.5.0",
      "_view_name": "HTMLView",
      "description": "",
      "description_tooltip": null,
      "layout": "IPY_MODEL_eabc168a5d374df8bc3b995d316cc5d5",
      "placeholder": "​",
      "style": "IPY_MODEL_56ad8734c4c1408595c5043df7edc893",
      "value": " 81%"
     }
    },
    "cc0ffbd45dac439fbc8a7b7f959ca2dc": {
     "model_module": "@jupyter-widgets/base",
     "model_module_version": "1.2.0",
     "model_name": "LayoutModel",
     "state": {
      "_model_module": "@jupyter-widgets/base",
      "_model_module_version": "1.2.0",
      "_model_name": "LayoutModel",
      "_view_count": null,
      "_view_module": "@jupyter-widgets/base",
      "_view_module_version": "1.2.0",
      "_view_name": "LayoutView",
      "align_content": null,
      "align_items": null,
      "align_self": null,
      "border": null,
      "bottom": null,
      "display": null,
      "flex": null,
      "flex_flow": null,
      "grid_area": null,
      "grid_auto_columns": null,
      "grid_auto_flow": null,
      "grid_auto_rows": null,
      "grid_column": null,
      "grid_gap": null,
      "grid_row": null,
      "grid_template_areas": null,
      "grid_template_columns": null,
      "grid_template_rows": null,
      "height": null,
      "justify_content": null,
      "justify_items": null,
      "left": null,
      "margin": null,
      "max_height": null,
      "max_width": null,
      "min_height": null,
      "min_width": null,
      "object_fit": null,
      "object_position": null,
      "order": null,
      "overflow": null,
      "overflow_x": null,
      "overflow_y": null,
      "padding": null,
      "right": null,
      "top": null,
      "visibility": null,
      "width": null
     }
    },
    "eabc168a5d374df8bc3b995d316cc5d5": {
     "model_module": "@jupyter-widgets/base",
     "model_module_version": "1.2.0",
     "model_name": "LayoutModel",
     "state": {
      "_model_module": "@jupyter-widgets/base",
      "_model_module_version": "1.2.0",
      "_model_name": "LayoutModel",
      "_view_count": null,
      "_view_module": "@jupyter-widgets/base",
      "_view_module_version": "1.2.0",
      "_view_name": "LayoutView",
      "align_content": null,
      "align_items": null,
      "align_self": null,
      "border": null,
      "bottom": null,
      "display": null,
      "flex": null,
      "flex_flow": null,
      "grid_area": null,
      "grid_auto_columns": null,
      "grid_auto_flow": null,
      "grid_auto_rows": null,
      "grid_column": null,
      "grid_gap": null,
      "grid_row": null,
      "grid_template_areas": null,
      "grid_template_columns": null,
      "grid_template_rows": null,
      "height": null,
      "justify_content": null,
      "justify_items": null,
      "left": null,
      "margin": null,
      "max_height": null,
      "max_width": null,
      "min_height": null,
      "min_width": null,
      "object_fit": null,
      "object_position": null,
      "order": null,
      "overflow": null,
      "overflow_x": null,
      "overflow_y": null,
      "padding": null,
      "right": null,
      "top": null,
      "visibility": null,
      "width": null
     }
    },
    "fd615312758c409d8963ae3017285160": {
     "model_module": "@jupyter-widgets/base",
     "model_module_version": "1.2.0",
     "model_name": "LayoutModel",
     "state": {
      "_model_module": "@jupyter-widgets/base",
      "_model_module_version": "1.2.0",
      "_model_name": "LayoutModel",
      "_view_count": null,
      "_view_module": "@jupyter-widgets/base",
      "_view_module_version": "1.2.0",
      "_view_name": "LayoutView",
      "align_content": null,
      "align_items": null,
      "align_self": null,
      "border": null,
      "bottom": null,
      "display": null,
      "flex": null,
      "flex_flow": null,
      "grid_area": null,
      "grid_auto_columns": null,
      "grid_auto_flow": null,
      "grid_auto_rows": null,
      "grid_column": null,
      "grid_gap": null,
      "grid_row": null,
      "grid_template_areas": null,
      "grid_template_columns": null,
      "grid_template_rows": null,
      "height": null,
      "justify_content": null,
      "justify_items": null,
      "left": null,
      "margin": null,
      "max_height": null,
      "max_width": null,
      "min_height": null,
      "min_width": null,
      "object_fit": null,
      "object_position": null,
      "order": null,
      "overflow": null,
      "overflow_x": null,
      "overflow_y": null,
      "padding": null,
      "right": null,
      "top": null,
      "visibility": null,
      "width": null
     }
    }
   }
  }
 },
 "nbformat": 4,
 "nbformat_minor": 4
}
